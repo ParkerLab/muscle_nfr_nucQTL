{
 "cells": [
  {
   "cell_type": "code",
   "execution_count": 46,
   "metadata": {},
   "outputs": [],
   "source": [
    "library(ggplot2)\n",
    "library(tidyr)"
   ]
  },
  {
   "cell_type": "code",
   "execution_count": 60,
   "metadata": {},
   "outputs": [
    {
     "name": "stderr",
     "output_type": "stream",
     "text": [
      "Warning message:\n",
      "“Expected 3 pieces. Additional pieces discarded in 32 rows [1, 2, 3, 4, 5, 6, 7, 8, 9, 10, 11, 12, 13, 14, 15, 16, 17, 18, 19, 20, ...].”"
     ]
    },
    {
     "data": {
      "text/html": [
       "<table>\n",
       "<caption>A data.frame: 6 × 13</caption>\n",
       "<thead>\n",
       "\t<tr><th></th><th scope=col>Category</th><th scope=col>Prop._SNPs</th><th scope=col>Prop._h2</th><th scope=col>Prop._h2_std_error</th><th scope=col>Enrichment</th><th scope=col>Enrichment_std_error</th><th scope=col>Enrichment_p</th><th scope=col>Coefficient</th><th scope=col>Coefficient_std_error</th><th scope=col>Coefficient_z.score</th><th scope=col>trait</th><th scope=col>cluster</th><th scope=col>result</th></tr>\n",
       "\t<tr><th></th><th scope=col>&lt;fct&gt;</th><th scope=col>&lt;dbl&gt;</th><th scope=col>&lt;dbl&gt;</th><th scope=col>&lt;dbl&gt;</th><th scope=col>&lt;dbl&gt;</th><th scope=col>&lt;dbl&gt;</th><th scope=col>&lt;dbl&gt;</th><th scope=col>&lt;dbl&gt;</th><th scope=col>&lt;dbl&gt;</th><th scope=col>&lt;dbl&gt;</th><th scope=col>&lt;chr&gt;</th><th scope=col>&lt;fct&gt;</th><th scope=col>&lt;chr&gt;</th></tr>\n",
       "</thead>\n",
       "<tbody>\n",
       "\t<tr><th scope=row>1</th><td>L2_0</td><td>0.021212318</td><td>0.14714827</td><td>0.06007729</td><td> 6.936926</td><td>2.832189</td><td>0.03629304</td><td> 4.863218e-08</td><td>4.846195e-08</td><td> 1.0035126</td><td>FGluadjBMI</td><td>1</td><td>hg19</td></tr>\n",
       "\t<tr><th scope=row>55</th><td>L2_0</td><td>0.016123039</td><td>0.14180165</td><td>0.06966445</td><td> 8.794970</td><td>4.320801</td><td>0.07086399</td><td> 7.206041e-08</td><td>7.137784e-08</td><td> 1.0095628</td><td>FGluadjBMI</td><td>2</td><td>hg19</td></tr>\n",
       "\t<tr><th scope=row>109</th><td>L2_0</td><td>0.013731893</td><td>0.05125098</td><td>0.06703214</td><td> 3.732259</td><td>4.881493</td><td>0.57030081</td><td>-1.074679e-08</td><td>7.957767e-08</td><td>-0.1350478</td><td>FGluadjBMI</td><td>3</td><td>hg19</td></tr>\n",
       "\t<tr><th scope=row>163</th><td>L2_0</td><td>0.009201734</td><td>0.05067979</td><td>0.06570232</td><td> 5.507635</td><td>7.140211</td><td>0.52313126</td><td> 1.730976e-08</td><td>1.089904e-07</td><td> 0.1588191</td><td>FGluadjBMI</td><td>4</td><td>hg19</td></tr>\n",
       "\t<tr><th scope=row>217</th><td>L2_0</td><td>0.006762443</td><td>0.08015594</td><td>0.04671328</td><td>11.853103</td><td>6.907752</td><td>0.10408887</td><td> 1.192866e-07</td><td>1.005639e-07</td><td> 1.1861770</td><td>FGluadjBMI</td><td>5</td><td>hg19</td></tr>\n",
       "\t<tr><th scope=row>271</th><td>L2_0</td><td>0.006916608</td><td>0.05271077</td><td>0.04384522</td><td> 7.620899</td><td>6.339121</td><td>0.28719270</td><td> 4.349017e-08</td><td>9.183919e-08</td><td> 0.4735470</td><td>FGluadjBMI</td><td>6</td><td>hg19</td></tr>\n",
       "</tbody>\n",
       "</table>\n"
      ],
      "text/latex": [
       "A data.frame: 6 × 13\n",
       "\\begin{tabular}{r|lllllllllllll}\n",
       "  & Category & Prop.\\_SNPs & Prop.\\_h2 & Prop.\\_h2\\_std\\_error & Enrichment & Enrichment\\_std\\_error & Enrichment\\_p & Coefficient & Coefficient\\_std\\_error & Coefficient\\_z.score & trait & cluster & result\\\\\n",
       "  & <fct> & <dbl> & <dbl> & <dbl> & <dbl> & <dbl> & <dbl> & <dbl> & <dbl> & <dbl> & <chr> & <fct> & <chr>\\\\\n",
       "\\hline\n",
       "\t1 & L2\\_0 & 0.021212318 & 0.14714827 & 0.06007729 &  6.936926 & 2.832189 & 0.03629304 &  4.863218e-08 & 4.846195e-08 &  1.0035126 & FGluadjBMI & 1 & hg19\\\\\n",
       "\t55 & L2\\_0 & 0.016123039 & 0.14180165 & 0.06966445 &  8.794970 & 4.320801 & 0.07086399 &  7.206041e-08 & 7.137784e-08 &  1.0095628 & FGluadjBMI & 2 & hg19\\\\\n",
       "\t109 & L2\\_0 & 0.013731893 & 0.05125098 & 0.06703214 &  3.732259 & 4.881493 & 0.57030081 & -1.074679e-08 & 7.957767e-08 & -0.1350478 & FGluadjBMI & 3 & hg19\\\\\n",
       "\t163 & L2\\_0 & 0.009201734 & 0.05067979 & 0.06570232 &  5.507635 & 7.140211 & 0.52313126 &  1.730976e-08 & 1.089904e-07 &  0.1588191 & FGluadjBMI & 4 & hg19\\\\\n",
       "\t217 & L2\\_0 & 0.006762443 & 0.08015594 & 0.04671328 & 11.853103 & 6.907752 & 0.10408887 &  1.192866e-07 & 1.005639e-07 &  1.1861770 & FGluadjBMI & 5 & hg19\\\\\n",
       "\t271 & L2\\_0 & 0.006916608 & 0.05271077 & 0.04384522 &  7.620899 & 6.339121 & 0.28719270 &  4.349017e-08 & 9.183919e-08 &  0.4735470 & FGluadjBMI & 6 & hg19\\\\\n",
       "\\end{tabular}\n"
      ],
      "text/markdown": [
       "\n",
       "A data.frame: 6 × 13\n",
       "\n",
       "| <!--/--> | Category &lt;fct&gt; | Prop._SNPs &lt;dbl&gt; | Prop._h2 &lt;dbl&gt; | Prop._h2_std_error &lt;dbl&gt; | Enrichment &lt;dbl&gt; | Enrichment_std_error &lt;dbl&gt; | Enrichment_p &lt;dbl&gt; | Coefficient &lt;dbl&gt; | Coefficient_std_error &lt;dbl&gt; | Coefficient_z.score &lt;dbl&gt; | trait &lt;chr&gt; | cluster &lt;fct&gt; | result &lt;chr&gt; |\n",
       "|---|---|---|---|---|---|---|---|---|---|---|---|---|---|\n",
       "| 1 | L2_0 | 0.021212318 | 0.14714827 | 0.06007729 |  6.936926 | 2.832189 | 0.03629304 |  4.863218e-08 | 4.846195e-08 |  1.0035126 | FGluadjBMI | 1 | hg19 |\n",
       "| 55 | L2_0 | 0.016123039 | 0.14180165 | 0.06966445 |  8.794970 | 4.320801 | 0.07086399 |  7.206041e-08 | 7.137784e-08 |  1.0095628 | FGluadjBMI | 2 | hg19 |\n",
       "| 109 | L2_0 | 0.013731893 | 0.05125098 | 0.06703214 |  3.732259 | 4.881493 | 0.57030081 | -1.074679e-08 | 7.957767e-08 | -0.1350478 | FGluadjBMI | 3 | hg19 |\n",
       "| 163 | L2_0 | 0.009201734 | 0.05067979 | 0.06570232 |  5.507635 | 7.140211 | 0.52313126 |  1.730976e-08 | 1.089904e-07 |  0.1588191 | FGluadjBMI | 4 | hg19 |\n",
       "| 217 | L2_0 | 0.006762443 | 0.08015594 | 0.04671328 | 11.853103 | 6.907752 | 0.10408887 |  1.192866e-07 | 1.005639e-07 |  1.1861770 | FGluadjBMI | 5 | hg19 |\n",
       "| 271 | L2_0 | 0.006916608 | 0.05271077 | 0.04384522 |  7.620899 | 6.339121 | 0.28719270 |  4.349017e-08 | 9.183919e-08 |  0.4735470 | FGluadjBMI | 6 | hg19 |\n",
       "\n"
      ],
      "text/plain": [
       "    Category Prop._SNPs  Prop._h2   Prop._h2_std_error Enrichment\n",
       "1   L2_0     0.021212318 0.14714827 0.06007729          6.936926 \n",
       "55  L2_0     0.016123039 0.14180165 0.06966445          8.794970 \n",
       "109 L2_0     0.013731893 0.05125098 0.06703214          3.732259 \n",
       "163 L2_0     0.009201734 0.05067979 0.06570232          5.507635 \n",
       "217 L2_0     0.006762443 0.08015594 0.04671328         11.853103 \n",
       "271 L2_0     0.006916608 0.05271077 0.04384522          7.620899 \n",
       "    Enrichment_std_error Enrichment_p Coefficient   Coefficient_std_error\n",
       "1   2.832189             0.03629304    4.863218e-08 4.846195e-08         \n",
       "55  4.320801             0.07086399    7.206041e-08 7.137784e-08         \n",
       "109 4.881493             0.57030081   -1.074679e-08 7.957767e-08         \n",
       "163 7.140211             0.52313126    1.730976e-08 1.089904e-07         \n",
       "217 6.907752             0.10408887    1.192866e-07 1.005639e-07         \n",
       "271 6.339121             0.28719270    4.349017e-08 9.183919e-08         \n",
       "    Coefficient_z.score trait      cluster result\n",
       "1    1.0035126          FGluadjBMI 1       hg19  \n",
       "55   1.0095628          FGluadjBMI 2       hg19  \n",
       "109 -0.1350478          FGluadjBMI 3       hg19  \n",
       "163  0.1588191          FGluadjBMI 4       hg19  \n",
       "217  1.1861770          FGluadjBMI 5       hg19  \n",
       "271  0.4735470          FGluadjBMI 6       hg19  "
      ]
     },
     "metadata": {},
     "output_type": "display_data"
    },
    {
     "data": {
      "text/html": [
       "<strong>png:</strong> 2"
      ],
      "text/latex": [
       "\\textbf{png:} 2"
      ],
      "text/markdown": [
       "**png:** 2"
      ],
      "text/plain": [
       "png \n",
       "  2 "
      ]
     },
     "metadata": {},
     "output_type": "display_data"
    },
    {
     "data": {
      "text/html": [
       "<strong>png:</strong> 2"
      ],
      "text/latex": [
       "\\textbf{png:} 2"
      ],
      "text/markdown": [
       "**png:** 2"
      ],
      "text/plain": [
       "png \n",
       "  2 "
      ]
     },
     "metadata": {},
     "output_type": "display_data"
    }
   ],
   "source": [
    "d = read.csv(\"/lab/work/arushiv/grant_analyses/2019_muscle_ldsc_AMP/work/annotationEnrichment/allstats.dat\", sep='\\t')\n",
    "d = d[d$Category == \"L2_0\",]\n",
    "\n",
    "\n",
    "d = d %>% separate(trait, c(\"trait\", \"cluster\", \"result\"))\n",
    "d$cluster = as.numeric(d$cluster) + 1\n",
    "d$cluster = factor(d$cluster, levels=rev(seq(1,8)))\n",
    "\n",
    "head(d)\n",
    "pdf(\"../work/fig.cluster-partitioned-heritability-single-annot-baseline.pdf\", height=4, width=5)\n",
    "#d$Category = factor(d$Category, levels=rev(seq(1,8)))\n",
    "ggplot(d, aes(x=factor(cluster), y=Enrichment)) + \n",
    "geom_point() + \n",
    "geom_errorbar(aes(ymax=Enrichment +1.96*Enrichment_std_error, ymin=Enrichment-1.96*Enrichment_std_error ),  width=.2) +\n",
    "theme_bw() +\n",
    "geom_hline(yintercept=1) +\n",
    "facet_wrap(~trait, nrow=1) +\n",
    "coord_flip() +\n",
    "labs(y=\"Heritability Enrichment\", x=\"Cluster\")\n",
    "dev.off()\n",
    "\n",
    "d = d[d$trait == \"FInsadjBMI\",]\n",
    "pdf(\"../work/fig.cluster-partitioned-heritability-single-annot-baseline.fins.pdf\", height=2.5, width=2)\n",
    "#d$Category = factor(d$Category, levels=rev(seq(1,8)))\n",
    "ggplot(d, aes(x=factor(cluster), y=Enrichment)) + \n",
    "geom_point() + \n",
    "geom_errorbar(aes(ymax=Enrichment +1.96*Enrichment_std_error, ymin=Enrichment-1.96*Enrichment_std_error ),  width=.2) +\n",
    "theme_bw() +\n",
    "geom_hline(yintercept=1) +\n",
    "facet_wrap(~trait, nrow=1) +\n",
    "coord_flip() +\n",
    "labs(y=\"Heritability Enrichment\", x=\"Cluster\")\n",
    "dev.off()"
   ]
  },
  {
   "cell_type": "code",
   "execution_count": 58,
   "metadata": {},
   "outputs": [
    {
     "data": {
      "text/html": [
       "<table>\n",
       "<caption>A data.frame: 8 × 4</caption>\n",
       "<thead>\n",
       "\t<tr><th></th><th scope=col>trait</th><th scope=col>cluster</th><th scope=col>Enrichment</th><th scope=col>Enrichment_p</th></tr>\n",
       "\t<tr><th></th><th scope=col>&lt;chr&gt;</th><th scope=col>&lt;fct&gt;</th><th scope=col>&lt;dbl&gt;</th><th scope=col>&lt;dbl&gt;</th></tr>\n",
       "</thead>\n",
       "<tbody>\n",
       "\t<tr><th scope=row>865</th><td>FInsadjBMI</td><td>1</td><td> 6.7843959</td><td>0.0152300914</td></tr>\n",
       "\t<tr><th scope=row>919</th><td>FInsadjBMI</td><td>2</td><td> 6.4032611</td><td>0.0560017201</td></tr>\n",
       "\t<tr><th scope=row>973</th><td>FInsadjBMI</td><td>3</td><td>11.5525005</td><td>0.0079475817</td></tr>\n",
       "\t<tr><th scope=row>1027</th><td>FInsadjBMI</td><td>4</td><td>13.0090154</td><td>0.0072600470</td></tr>\n",
       "\t<tr><th scope=row>1081</th><td>FInsadjBMI</td><td>5</td><td>17.4464181</td><td>0.0005229783</td></tr>\n",
       "\t<tr><th scope=row>1135</th><td>FInsadjBMI</td><td>6</td><td>18.1229128</td><td>0.0001076418</td></tr>\n",
       "\t<tr><th scope=row>1189</th><td>FInsadjBMI</td><td>7</td><td> 9.3402585</td><td>0.1751551676</td></tr>\n",
       "\t<tr><th scope=row>1243</th><td>FInsadjBMI</td><td>8</td><td> 0.7594765</td><td>0.9622851625</td></tr>\n",
       "</tbody>\n",
       "</table>\n"
      ],
      "text/latex": [
       "A data.frame: 8 × 4\n",
       "\\begin{tabular}{r|llll}\n",
       "  & trait & cluster & Enrichment & Enrichment\\_p\\\\\n",
       "  & <chr> & <fct> & <dbl> & <dbl>\\\\\n",
       "\\hline\n",
       "\t865 & FInsadjBMI & 1 &  6.7843959 & 0.0152300914\\\\\n",
       "\t919 & FInsadjBMI & 2 &  6.4032611 & 0.0560017201\\\\\n",
       "\t973 & FInsadjBMI & 3 & 11.5525005 & 0.0079475817\\\\\n",
       "\t1027 & FInsadjBMI & 4 & 13.0090154 & 0.0072600470\\\\\n",
       "\t1081 & FInsadjBMI & 5 & 17.4464181 & 0.0005229783\\\\\n",
       "\t1135 & FInsadjBMI & 6 & 18.1229128 & 0.0001076418\\\\\n",
       "\t1189 & FInsadjBMI & 7 &  9.3402585 & 0.1751551676\\\\\n",
       "\t1243 & FInsadjBMI & 8 &  0.7594765 & 0.9622851625\\\\\n",
       "\\end{tabular}\n"
      ],
      "text/markdown": [
       "\n",
       "A data.frame: 8 × 4\n",
       "\n",
       "| <!--/--> | trait &lt;chr&gt; | cluster &lt;fct&gt; | Enrichment &lt;dbl&gt; | Enrichment_p &lt;dbl&gt; |\n",
       "|---|---|---|---|---|\n",
       "| 865 | FInsadjBMI | 1 |  6.7843959 | 0.0152300914 |\n",
       "| 919 | FInsadjBMI | 2 |  6.4032611 | 0.0560017201 |\n",
       "| 973 | FInsadjBMI | 3 | 11.5525005 | 0.0079475817 |\n",
       "| 1027 | FInsadjBMI | 4 | 13.0090154 | 0.0072600470 |\n",
       "| 1081 | FInsadjBMI | 5 | 17.4464181 | 0.0005229783 |\n",
       "| 1135 | FInsadjBMI | 6 | 18.1229128 | 0.0001076418 |\n",
       "| 1189 | FInsadjBMI | 7 |  9.3402585 | 0.1751551676 |\n",
       "| 1243 | FInsadjBMI | 8 |  0.7594765 | 0.9622851625 |\n",
       "\n"
      ],
      "text/plain": [
       "     trait      cluster Enrichment Enrichment_p\n",
       "865  FInsadjBMI 1        6.7843959 0.0152300914\n",
       "919  FInsadjBMI 2        6.4032611 0.0560017201\n",
       "973  FInsadjBMI 3       11.5525005 0.0079475817\n",
       "1027 FInsadjBMI 4       13.0090154 0.0072600470\n",
       "1081 FInsadjBMI 5       17.4464181 0.0005229783\n",
       "1135 FInsadjBMI 6       18.1229128 0.0001076418\n",
       "1189 FInsadjBMI 7        9.3402585 0.1751551676\n",
       "1243 FInsadjBMI 8        0.7594765 0.9622851625"
      ]
     },
     "metadata": {},
     "output_type": "display_data"
    }
   ],
   "source": [
    "d[d$trait==\"FInsadjBMI\",][,c(\"trait\", \"cluster\", \"Enrichment\", \"Enrichment_p\")]"
   ]
  },
  {
   "cell_type": "code",
   "execution_count": null,
   "metadata": {},
   "outputs": [],
   "source": []
  }
 ],
 "metadata": {
  "kernelspec": {
   "display_name": "R",
   "language": "R",
   "name": "ir"
  },
  "language_info": {
   "codemirror_mode": "r",
   "file_extension": ".r",
   "mimetype": "text/x-r-source",
   "name": "R",
   "pygments_lexer": "r",
   "version": "3.6.1"
  }
 },
 "nbformat": 4,
 "nbformat_minor": 4
}
